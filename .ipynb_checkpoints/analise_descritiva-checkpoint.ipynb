{
 "cells": [
  {
   "cell_type": "markdown",
   "id": "f616b06f",
   "metadata": {},
   "source": [
    "# <font color='#F37126'> Análise descritiva dos dados </font>"
   ]
  },
  {
   "cell_type": "markdown",
   "id": "85ac0765",
   "metadata": {},
   "source": [
    "## 0.0. Imports"
   ]
  },
  {
   "cell_type": "code",
   "execution_count": 1,
   "id": "1d689414",
   "metadata": {},
   "outputs": [],
   "source": [
    "import pandas as pd\n",
    "import numpy  as np\n",
    "\n",
    "from sqlalchemy import create_engine\n",
    "from IPython.display import Image"
   ]
  },
  {
   "cell_type": "markdown",
   "id": "01c5be12",
   "metadata": {},
   "source": [
    "## 0.1. Coleta dos dados"
   ]
  },
  {
   "cell_type": "code",
   "execution_count": 2,
   "id": "cc654033",
   "metadata": {},
   "outputs": [],
   "source": [
    "path = '/home/judson/Documents/repos/hm_project/'\n",
    "database_name = 'database_hm.sqlite'\n",
    "conn = create_engine( 'sqlite:///' + path + database_name, echo=False )"
   ]
  },
  {
   "cell_type": "code",
   "execution_count": 3,
   "id": "4ac9a275",
   "metadata": {},
   "outputs": [],
   "source": [
    "query = \"\"\"\n",
    "    SELECT * FROM vitrine\n",
    "\"\"\""
   ]
  },
  {
   "cell_type": "code",
   "execution_count": 4,
   "id": "d48551d8",
   "metadata": {},
   "outputs": [],
   "source": [
    "df_raw = pd.read_sql( query, con=conn )"
   ]
  },
  {
   "cell_type": "code",
   "execution_count": 9,
   "id": "1a834d31",
   "metadata": {},
   "outputs": [
    {
     "data": {
      "text/html": [
       "<div>\n",
       "<style scoped>\n",
       "    .dataframe tbody tr th:only-of-type {\n",
       "        vertical-align: middle;\n",
       "    }\n",
       "\n",
       "    .dataframe tbody tr th {\n",
       "        vertical-align: top;\n",
       "    }\n",
       "\n",
       "    .dataframe thead th {\n",
       "        text-align: right;\n",
       "    }\n",
       "</style>\n",
       "<table border=\"1\" class=\"dataframe\">\n",
       "  <thead>\n",
       "    <tr style=\"text-align: right;\">\n",
       "      <th></th>\n",
       "      <th>product_id</th>\n",
       "      <th>style_id</th>\n",
       "      <th>color_id</th>\n",
       "      <th>product_name</th>\n",
       "      <th>color_name</th>\n",
       "      <th>fit</th>\n",
       "      <th>price</th>\n",
       "      <th>size_number</th>\n",
       "      <th>size_model</th>\n",
       "      <th>cotton</th>\n",
       "      <th>polyester</th>\n",
       "      <th>spandex</th>\n",
       "      <th>elasterell</th>\n",
       "      <th>scrapy_datetime</th>\n",
       "    </tr>\n",
       "  </thead>\n",
       "  <tbody>\n",
       "    <tr>\n",
       "      <th>46</th>\n",
       "      <td>0938875007</td>\n",
       "      <td>0938875</td>\n",
       "      <td>007</td>\n",
       "      <td>slim_tapered_jeans</td>\n",
       "      <td>black</td>\n",
       "      <td>slim_fit</td>\n",
       "      <td>39.99</td>\n",
       "      <td>188</td>\n",
       "      <td>31/32</td>\n",
       "      <td>1.0</td>\n",
       "      <td>0.00</td>\n",
       "      <td>0.01</td>\n",
       "      <td>0.0</td>\n",
       "      <td>2021-12-28 20:27:03</td>\n",
       "    </tr>\n",
       "    <tr>\n",
       "      <th>47</th>\n",
       "      <td>0938875008</td>\n",
       "      <td>0938875</td>\n",
       "      <td>008</td>\n",
       "      <td>slim_tapered_jeans</td>\n",
       "      <td>denim_blue</td>\n",
       "      <td>slim_fit</td>\n",
       "      <td>29.99</td>\n",
       "      <td>187</td>\n",
       "      <td>31/32</td>\n",
       "      <td>1.0</td>\n",
       "      <td>0.00</td>\n",
       "      <td>0.01</td>\n",
       "      <td>0.0</td>\n",
       "      <td>2021-12-28 20:27:03</td>\n",
       "    </tr>\n",
       "    <tr>\n",
       "      <th>48</th>\n",
       "      <td>0974597006</td>\n",
       "      <td>0974597</td>\n",
       "      <td>006</td>\n",
       "      <td>slim_tapered_jeans</td>\n",
       "      <td>dark_gray</td>\n",
       "      <td>slim_fit</td>\n",
       "      <td>29.99</td>\n",
       "      <td>None</td>\n",
       "      <td>None</td>\n",
       "      <td>1.0</td>\n",
       "      <td>0.00</td>\n",
       "      <td>0.02</td>\n",
       "      <td>0.0</td>\n",
       "      <td>2021-12-28 20:27:03</td>\n",
       "    </tr>\n",
       "    <tr>\n",
       "      <th>49</th>\n",
       "      <td>0974597001</td>\n",
       "      <td>0974597</td>\n",
       "      <td>001</td>\n",
       "      <td>slim_tapered_jeans</td>\n",
       "      <td>denim_blue</td>\n",
       "      <td>slim_fit</td>\n",
       "      <td>29.99</td>\n",
       "      <td>186</td>\n",
       "      <td>31/32</td>\n",
       "      <td>1.0</td>\n",
       "      <td>0.00</td>\n",
       "      <td>0.01</td>\n",
       "      <td>0.0</td>\n",
       "      <td>2021-12-28 20:27:03</td>\n",
       "    </tr>\n",
       "    <tr>\n",
       "      <th>50</th>\n",
       "      <td>1028865001</td>\n",
       "      <td>1028865</td>\n",
       "      <td>001</td>\n",
       "      <td>relaxed_jeans_with_embroidery_detail</td>\n",
       "      <td>light_denim_blue/smiley®</td>\n",
       "      <td>relaxed_fit</td>\n",
       "      <td>49.99</td>\n",
       "      <td>186</td>\n",
       "      <td>None</td>\n",
       "      <td>1.0</td>\n",
       "      <td>0.65</td>\n",
       "      <td>0.00</td>\n",
       "      <td>0.0</td>\n",
       "      <td>2021-12-28 20:27:03</td>\n",
       "    </tr>\n",
       "  </tbody>\n",
       "</table>\n",
       "</div>"
      ],
      "text/plain": [
       "    product_id style_id color_id                          product_name  \\\n",
       "46  0938875007  0938875      007                    slim_tapered_jeans   \n",
       "47  0938875008  0938875      008                    slim_tapered_jeans   \n",
       "48  0974597006  0974597      006                    slim_tapered_jeans   \n",
       "49  0974597001  0974597      001                    slim_tapered_jeans   \n",
       "50  1028865001  1028865      001  relaxed_jeans_with_embroidery_detail   \n",
       "\n",
       "                  color_name          fit  price size_number size_model  \\\n",
       "46                     black     slim_fit  39.99         188      31/32   \n",
       "47                denim_blue     slim_fit  29.99         187      31/32   \n",
       "48                 dark_gray     slim_fit  29.99        None       None   \n",
       "49                denim_blue     slim_fit  29.99         186      31/32   \n",
       "50  light_denim_blue/smiley®  relaxed_fit  49.99         186       None   \n",
       "\n",
       "    cotton  polyester  spandex  elasterell      scrapy_datetime  \n",
       "46     1.0       0.00     0.01         0.0  2021-12-28 20:27:03  \n",
       "47     1.0       0.00     0.01         0.0  2021-12-28 20:27:03  \n",
       "48     1.0       0.00     0.02         0.0  2021-12-28 20:27:03  \n",
       "49     1.0       0.00     0.01         0.0  2021-12-28 20:27:03  \n",
       "50     1.0       0.65     0.00         0.0  2021-12-28 20:27:03  "
      ]
     },
     "execution_count": 9,
     "metadata": {},
     "output_type": "execute_result"
    }
   ],
   "source": [
    "df_raw.tail()"
   ]
  },
  {
   "cell_type": "markdown",
   "id": "4ea1caca",
   "metadata": {},
   "source": [
    "# 1.0. Passo 01 - Descrição dos dados"
   ]
  },
  {
   "cell_type": "code",
   "execution_count": 6,
   "id": "aafa4e82",
   "metadata": {},
   "outputs": [],
   "source": [
    "df01 = df_raw.copy()"
   ]
  },
  {
   "cell_type": "markdown",
   "id": "680b04d3",
   "metadata": {},
   "source": [
    "## 1.1. Dimensão dos dados"
   ]
  },
  {
   "cell_type": "code",
   "execution_count": 8,
   "id": "355036ec",
   "metadata": {},
   "outputs": [
    {
     "name": "stdout",
     "output_type": "stream",
     "text": [
      "Number of Rows: 51\n",
      "Number of Cols: 14\n"
     ]
    }
   ],
   "source": [
    "print( f'Number of Rows: {df01.shape[0]}' )\n",
    "print( f'Number of Cols: {df01.shape[1]}' )"
   ]
  },
  {
   "cell_type": "markdown",
   "id": "68232af0",
   "metadata": {},
   "source": [
    "## 1.2. Tipo dos dados "
   ]
  },
  {
   "cell_type": "code",
   "execution_count": 54,
   "id": "ddb75019",
   "metadata": {
    "scrolled": false
   },
   "outputs": [
    {
     "data": {
      "text/plain": [
       "product_id          object\n",
       "style_id            object\n",
       "color_id            object\n",
       "product_name        object\n",
       "color_name          object\n",
       "fit                 object\n",
       "price              float64\n",
       "size_number         object\n",
       "size_model          object\n",
       "cotton             float64\n",
       "polyester          float64\n",
       "spandex            float64\n",
       "elasterell         float64\n",
       "scrapy_datetime     object\n",
       "dtype: object"
      ]
     },
     "execution_count": 54,
     "metadata": {},
     "output_type": "execute_result"
    }
   ],
   "source": [
    "df01.dtypes"
   ]
  },
  {
   "cell_type": "code",
   "execution_count": 55,
   "id": "8aa1053d",
   "metadata": {},
   "outputs": [],
   "source": [
    "# convert object to datetime\n",
    "df01['scrapy_datetime'] = pd.to_datetime( df01['scrapy_datetime'] )"
   ]
  },
  {
   "cell_type": "code",
   "execution_count": 56,
   "id": "413e2abe",
   "metadata": {},
   "outputs": [
    {
     "data": {
      "text/plain": [
       "product_id                 object\n",
       "style_id                   object\n",
       "color_id                   object\n",
       "product_name               object\n",
       "color_name                 object\n",
       "fit                        object\n",
       "price                     float64\n",
       "size_number                object\n",
       "size_model                 object\n",
       "cotton                    float64\n",
       "polyester                 float64\n",
       "spandex                   float64\n",
       "elasterell                float64\n",
       "scrapy_datetime    datetime64[ns]\n",
       "dtype: object"
      ]
     },
     "execution_count": 56,
     "metadata": {},
     "output_type": "execute_result"
    }
   ],
   "source": [
    "df01.dtypes"
   ]
  },
  {
   "cell_type": "markdown",
   "id": "4c57c112",
   "metadata": {},
   "source": [
    "## 1.3. Identificação de dados faltantes"
   ]
  },
  {
   "cell_type": "code",
   "execution_count": 57,
   "id": "296eef14",
   "metadata": {
    "scrolled": true
   },
   "outputs": [
    {
     "data": {
      "text/plain": [
       "product_id          0\n",
       "style_id            0\n",
       "color_id            0\n",
       "product_name        0\n",
       "color_name          0\n",
       "fit                 0\n",
       "price               0\n",
       "size_number        18\n",
       "size_model         24\n",
       "cotton              0\n",
       "polyester           0\n",
       "spandex             0\n",
       "elasterell          0\n",
       "scrapy_datetime     0\n",
       "dtype: int64"
      ]
     },
     "execution_count": 57,
     "metadata": {},
     "output_type": "execute_result"
    }
   ],
   "source": [
    "df01.isna().sum()"
   ]
  },
  {
   "cell_type": "code",
   "execution_count": 58,
   "id": "92189d4d",
   "metadata": {},
   "outputs": [
    {
     "data": {
      "text/plain": [
       "product_id         0.000000\n",
       "style_id           0.000000\n",
       "color_id           0.000000\n",
       "product_name       0.000000\n",
       "color_name         0.000000\n",
       "fit                0.000000\n",
       "price              0.000000\n",
       "size_number        0.352941\n",
       "size_model         0.470588\n",
       "cotton             0.000000\n",
       "polyester          0.000000\n",
       "spandex            0.000000\n",
       "elasterell         0.000000\n",
       "scrapy_datetime    0.000000\n",
       "dtype: float64"
      ]
     },
     "execution_count": 58,
     "metadata": {},
     "output_type": "execute_result"
    }
   ],
   "source": [
    "df01.isna().sum() / df01.shape[0]"
   ]
  },
  {
   "cell_type": "markdown",
   "id": "0321a196",
   "metadata": {},
   "source": [
    "## 1.4. Substituição de dados faltantes "
   ]
  },
  {
   "cell_type": "code",
   "execution_count": 59,
   "id": "d324500b",
   "metadata": {},
   "outputs": [
    {
     "data": {
      "text/plain": [
       "(51, 12)"
      ]
     },
     "execution_count": 59,
     "metadata": {},
     "output_type": "execute_result"
    }
   ],
   "source": [
    "df_01 = df01.drop( columns=['size_number', 'size_model'] ).dropna()\n",
    "df_01.shape"
   ]
  },
  {
   "cell_type": "markdown",
   "id": "89ef428d",
   "metadata": {},
   "source": [
    "## 1.5. Descrição dos dados"
   ]
  },
  {
   "cell_type": "code",
   "execution_count": 60,
   "id": "620f982e",
   "metadata": {},
   "outputs": [],
   "source": [
    "num_attributes = df_01.select_dtypes( include=['int64', 'float64'] )\n",
    "cat_attributes = df_01.select_dtypes( exclude=['int64', 'float64', 'datetime64[ns]'] )"
   ]
  },
  {
   "cell_type": "markdown",
   "id": "41670411",
   "metadata": {},
   "source": [
    "### 1.5.1. Dados numéricos"
   ]
  },
  {
   "cell_type": "code",
   "execution_count": 61,
   "id": "684c8e40",
   "metadata": {},
   "outputs": [
    {
     "data": {
      "text/html": [
       "<div>\n",
       "<style scoped>\n",
       "    .dataframe tbody tr th:only-of-type {\n",
       "        vertical-align: middle;\n",
       "    }\n",
       "\n",
       "    .dataframe tbody tr th {\n",
       "        vertical-align: top;\n",
       "    }\n",
       "\n",
       "    .dataframe thead th {\n",
       "        text-align: right;\n",
       "    }\n",
       "</style>\n",
       "<table border=\"1\" class=\"dataframe\">\n",
       "  <thead>\n",
       "    <tr style=\"text-align: right;\">\n",
       "      <th></th>\n",
       "      <th>attributes</th>\n",
       "      <th>min</th>\n",
       "      <th>max</th>\n",
       "      <th>range</th>\n",
       "      <th>media</th>\n",
       "      <th>mediana</th>\n",
       "      <th>std</th>\n",
       "      <th>skew</th>\n",
       "      <th>kurtosis</th>\n",
       "    </tr>\n",
       "  </thead>\n",
       "  <tbody>\n",
       "    <tr>\n",
       "      <th>0</th>\n",
       "      <td>price</td>\n",
       "      <td>14.99</td>\n",
       "      <td>49.99</td>\n",
       "      <td>35.00</td>\n",
       "      <td>30.127255</td>\n",
       "      <td>29.99</td>\n",
       "      <td>9.777966</td>\n",
       "      <td>0.438422</td>\n",
       "      <td>-0.848709</td>\n",
       "    </tr>\n",
       "    <tr>\n",
       "      <th>1</th>\n",
       "      <td>cotton</td>\n",
       "      <td>0.77</td>\n",
       "      <td>1.00</td>\n",
       "      <td>0.23</td>\n",
       "      <td>0.957843</td>\n",
       "      <td>0.99</td>\n",
       "      <td>0.070747</td>\n",
       "      <td>-1.890872</td>\n",
       "      <td>2.177997</td>\n",
       "    </tr>\n",
       "    <tr>\n",
       "      <th>2</th>\n",
       "      <td>polyester</td>\n",
       "      <td>0.00</td>\n",
       "      <td>1.00</td>\n",
       "      <td>1.00</td>\n",
       "      <td>0.272745</td>\n",
       "      <td>0.00</td>\n",
       "      <td>0.314300</td>\n",
       "      <td>0.529472</td>\n",
       "      <td>-1.446507</td>\n",
       "    </tr>\n",
       "    <tr>\n",
       "      <th>3</th>\n",
       "      <td>spandex</td>\n",
       "      <td>0.00</td>\n",
       "      <td>0.02</td>\n",
       "      <td>0.02</td>\n",
       "      <td>0.013333</td>\n",
       "      <td>0.01</td>\n",
       "      <td>0.006157</td>\n",
       "      <td>-0.365544</td>\n",
       "      <td>-0.607877</td>\n",
       "    </tr>\n",
       "    <tr>\n",
       "      <th>4</th>\n",
       "      <td>elasterell</td>\n",
       "      <td>0.00</td>\n",
       "      <td>0.08</td>\n",
       "      <td>0.08</td>\n",
       "      <td>0.009412</td>\n",
       "      <td>0.00</td>\n",
       "      <td>0.025775</td>\n",
       "      <td>2.446002</td>\n",
       "      <td>4.143991</td>\n",
       "    </tr>\n",
       "  </tbody>\n",
       "</table>\n",
       "</div>"
      ],
      "text/plain": [
       "   attributes    min    max  range      media  mediana       std      skew  \\\n",
       "0       price  14.99  49.99  35.00  30.127255    29.99  9.777966  0.438422   \n",
       "1      cotton   0.77   1.00   0.23   0.957843     0.99  0.070747 -1.890872   \n",
       "2   polyester   0.00   1.00   1.00   0.272745     0.00  0.314300  0.529472   \n",
       "3     spandex   0.00   0.02   0.02   0.013333     0.01  0.006157 -0.365544   \n",
       "4  elasterell   0.00   0.08   0.08   0.009412     0.00  0.025775  2.446002   \n",
       "\n",
       "   kurtosis  \n",
       "0 -0.848709  \n",
       "1  2.177997  \n",
       "2 -1.446507  \n",
       "3 -0.607877  \n",
       "4  4.143991  "
      ]
     },
     "execution_count": 61,
     "metadata": {},
     "output_type": "execute_result"
    }
   ],
   "source": [
    "# tendencia central - media, mediana\n",
    "t1 = pd.DataFrame ( num_attributes.apply( np.mean ) ).T\n",
    "t2 = pd.DataFrame ( num_attributes.apply( np.median ) ).T\n",
    "\n",
    "# dispersão - std, min, max, range, skew, kurtosis\n",
    "d1 = pd.DataFrame ( num_attributes.apply( np.std ) ).T\n",
    "d2 = pd.DataFrame ( num_attributes.apply( np.min ) ).T\n",
    "d3 = pd.DataFrame ( num_attributes.apply( np.max ) ).T\n",
    "d4 = pd.DataFrame ( num_attributes.apply( lambda x: x.max() - x.min() ) ).T\n",
    "d5 = pd.DataFrame ( num_attributes.apply( lambda x: x.skew() ) ).T\n",
    "d6 = pd.DataFrame ( num_attributes.apply( lambda x: x.kurtosis() ) ).T\n",
    "\n",
    "# concat\n",
    "m1 = pd.concat( [d2, d3, d4, t1, t2, d1, d5, d6] ).T.reset_index()\n",
    "m1.columns = ['attributes', 'min', 'max', 'range', 'media', 'mediana', 'std', 'skew', 'kurtosis']\n",
    "m1"
   ]
  },
  {
   "cell_type": "code",
   "execution_count": null,
   "id": "473c58d9",
   "metadata": {},
   "outputs": [],
   "source": []
  },
  {
   "cell_type": "code",
   "execution_count": null,
   "id": "5be93fa7",
   "metadata": {},
   "outputs": [],
   "source": []
  }
 ],
 "metadata": {
  "kernelspec": {
   "display_name": "Python 3 (ipykernel)",
   "language": "python",
   "name": "python3"
  },
  "language_info": {
   "codemirror_mode": {
    "name": "ipython",
    "version": 3
   },
   "file_extension": ".py",
   "mimetype": "text/x-python",
   "name": "python",
   "nbconvert_exporter": "python",
   "pygments_lexer": "ipython3",
   "version": "3.8.10"
  }
 },
 "nbformat": 4,
 "nbformat_minor": 5
}
